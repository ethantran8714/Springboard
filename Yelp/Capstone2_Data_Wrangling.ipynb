{
 "cells": [
  {
   "cell_type": "markdown",
   "metadata": {},
   "source": [
    "### DATA WRANGLING CAPSTONE PROJECT 2"
   ]
  },
  {
   "cell_type": "code",
   "execution_count": 1,
   "metadata": {},
   "outputs": [
    {
     "data": {
      "text/html": [
       "<div>\n",
       "<style scoped>\n",
       "    .dataframe tbody tr th:only-of-type {\n",
       "        vertical-align: middle;\n",
       "    }\n",
       "\n",
       "    .dataframe tbody tr th {\n",
       "        vertical-align: top;\n",
       "    }\n",
       "\n",
       "    .dataframe thead th {\n",
       "        text-align: right;\n",
       "    }\n",
       "</style>\n",
       "<table border=\"1\" class=\"dataframe\">\n",
       "  <thead>\n",
       "    <tr style=\"text-align: right;\">\n",
       "      <th></th>\n",
       "      <th>Review_ID</th>\n",
       "      <th>User_ID</th>\n",
       "      <th>Business_ID</th>\n",
       "      <th>Stars</th>\n",
       "      <th>Date</th>\n",
       "      <th>Text</th>\n",
       "      <th>Useful</th>\n",
       "      <th>Funny</th>\n",
       "      <th>Cool</th>\n",
       "    </tr>\n",
       "  </thead>\n",
       "  <tbody>\n",
       "    <tr>\n",
       "      <th>1</th>\n",
       "      <td>hclX_u347zyM7zvqnKcvzw</td>\n",
       "      <td>IIfUkahy3IO7sN5KKMvtyA</td>\n",
       "      <td>PPJiCdWwr3z23tMxgX8ayQ</td>\n",
       "      <td>5</td>\n",
       "      <td>2015-02-12</td>\n",
       "      <td>Je reviens du Wellington et wouah ! La nourrit...</td>\n",
       "      <td>1.0</td>\n",
       "      <td>0.0</td>\n",
       "      <td>0.0</td>\n",
       "    </tr>\n",
       "    <tr>\n",
       "      <th>2</th>\n",
       "      <td>ynTtE8k2-RZcQvK05g-hsw</td>\n",
       "      <td>IIfUkahy3IO7sN5KKMvtyA</td>\n",
       "      <td>QJB0dqY_muOS8xCQd1SyvQ</td>\n",
       "      <td>5</td>\n",
       "      <td>2015-02-01</td>\n",
       "      <td>Véritable coup de coeur pour cette endroit ! J...</td>\n",
       "      <td>0.0</td>\n",
       "      <td>0.0</td>\n",
       "      <td>0.0</td>\n",
       "    </tr>\n",
       "    <tr>\n",
       "      <th>3</th>\n",
       "      <td>9G3aF2rilfiyRLz7S1-UGg</td>\n",
       "      <td>IIfUkahy3IO7sN5KKMvtyA</td>\n",
       "      <td>ywfhUYgNQqVf06sYQiIKMQ</td>\n",
       "      <td>4</td>\n",
       "      <td>2015-02-01</td>\n",
       "      <td>Très bonne place populaire pour un brunch trad...</td>\n",
       "      <td>2.0</td>\n",
       "      <td>0.0</td>\n",
       "      <td>0.0</td>\n",
       "    </tr>\n",
       "    <tr>\n",
       "      <th>4</th>\n",
       "      <td>9cvjOrirvFmjEO6WZIKV4w</td>\n",
       "      <td>IIfUkahy3IO7sN5KKMvtyA</td>\n",
       "      <td>O3sIXkB4rHX9OLKILiyZLw</td>\n",
       "      <td>4</td>\n",
       "      <td>2015-02-21</td>\n",
       "      <td>Très bonne brasserie dans un décor unique. Ess...</td>\n",
       "      <td>0.0</td>\n",
       "      <td>0.0</td>\n",
       "      <td>0.0</td>\n",
       "    </tr>\n",
       "    <tr>\n",
       "      <th>5</th>\n",
       "      <td>-a9p8-UcbGDSIX4SJslHZg</td>\n",
       "      <td>dI-aeHknmPqiL42vdGKZQw</td>\n",
       "      <td>93E1eOQ2bQG0OyIMqdcTvg</td>\n",
       "      <td>4</td>\n",
       "      <td>2015-07-01</td>\n",
       "      <td>I don't know why I don't go to Whataburger mor...</td>\n",
       "      <td>0.0</td>\n",
       "      <td>0.0</td>\n",
       "      <td>0.0</td>\n",
       "    </tr>\n",
       "  </tbody>\n",
       "</table>\n",
       "</div>"
      ],
      "text/plain": [
       "                Review_ID                 User_ID             Business_ID  \\\n",
       "1  hclX_u347zyM7zvqnKcvzw  IIfUkahy3IO7sN5KKMvtyA  PPJiCdWwr3z23tMxgX8ayQ   \n",
       "2  ynTtE8k2-RZcQvK05g-hsw  IIfUkahy3IO7sN5KKMvtyA  QJB0dqY_muOS8xCQd1SyvQ   \n",
       "3  9G3aF2rilfiyRLz7S1-UGg  IIfUkahy3IO7sN5KKMvtyA  ywfhUYgNQqVf06sYQiIKMQ   \n",
       "4  9cvjOrirvFmjEO6WZIKV4w  IIfUkahy3IO7sN5KKMvtyA  O3sIXkB4rHX9OLKILiyZLw   \n",
       "5  -a9p8-UcbGDSIX4SJslHZg  dI-aeHknmPqiL42vdGKZQw  93E1eOQ2bQG0OyIMqdcTvg   \n",
       "\n",
       "   Stars        Date                                               Text  \\\n",
       "1      5  2015-02-12  Je reviens du Wellington et wouah ! La nourrit...   \n",
       "2      5  2015-02-01  Véritable coup de coeur pour cette endroit ! J...   \n",
       "3      4  2015-02-01  Très bonne place populaire pour un brunch trad...   \n",
       "4      4  2015-02-21  Très bonne brasserie dans un décor unique. Ess...   \n",
       "5      4  2015-07-01  I don't know why I don't go to Whataburger mor...   \n",
       "\n",
       "   Useful  Funny  Cool  \n",
       "1     1.0    0.0   0.0  \n",
       "2     0.0    0.0   0.0  \n",
       "3     2.0    0.0   0.0  \n",
       "4     0.0    0.0   0.0  \n",
       "5     0.0    0.0   0.0  "
      ]
     },
     "execution_count": 1,
     "metadata": {},
     "output_type": "execute_result"
    }
   ],
   "source": [
    "import os\n",
    "import pandas as pd\n",
    "\n",
    "colnames = [\"Review_ID\", \"User_ID\", \"Business_ID\", \"Stars\", \"Date\", \"Text\", \"Useful\", \"Funny\", \"Cool\"]\n",
    "df= pd.read_csv('yelp_review.csv', names=colnames, header=None)\n",
    "df = df[1:]\n",
    "df.head()"
   ]
  },
  {
   "cell_type": "markdown",
   "metadata": {},
   "source": [
    "### ANALYZE DATASET"
   ]
  },
  {
   "cell_type": "code",
   "execution_count": 2,
   "metadata": {},
   "outputs": [
    {
     "data": {
      "text/plain": [
       "Index(['Review_ID', 'User_ID', 'Business_ID', 'Stars', 'Date', 'Text',\n",
       "       'Useful', 'Funny', 'Cool'],\n",
       "      dtype='object')"
      ]
     },
     "execution_count": 2,
     "metadata": {},
     "output_type": "execute_result"
    }
   ],
   "source": [
    "df.columns"
   ]
  },
  {
   "cell_type": "code",
   "execution_count": 3,
   "metadata": {},
   "outputs": [
    {
     "name": "stdout",
     "output_type": "stream",
     "text": [
      "<class 'pandas.core.frame.DataFrame'>\n",
      "RangeIndex: 2271979 entries, 1 to 2271979\n",
      "Data columns (total 9 columns):\n",
      " #   Column       Dtype  \n",
      "---  ------       -----  \n",
      " 0   Review_ID    object \n",
      " 1   User_ID      object \n",
      " 2   Business_ID  object \n",
      " 3   Stars        int64  \n",
      " 4   Date         object \n",
      " 5   Text         object \n",
      " 6   Useful       float64\n",
      " 7   Funny        float64\n",
      " 8   Cool         float64\n",
      "dtypes: float64(3), int64(1), object(5)\n",
      "memory usage: 156.0+ MB\n"
     ]
    }
   ],
   "source": [
    "df.info()"
   ]
  },
  {
   "cell_type": "code",
   "execution_count": 4,
   "metadata": {},
   "outputs": [
    {
     "data": {
      "text/plain": [
       "Review_ID      0\n",
       "User_ID        0\n",
       "Business_ID    0\n",
       "Stars          0\n",
       "Date           0\n",
       "Text           0\n",
       "Useful         0\n",
       "Funny          0\n",
       "Cool           0\n",
       "dtype: int64"
      ]
     },
     "execution_count": 4,
     "metadata": {},
     "output_type": "execute_result"
    }
   ],
   "source": [
    "df.isnull().sum()"
   ]
  },
  {
   "cell_type": "markdown",
   "metadata": {},
   "source": [
    "### Convert Data Types"
   ]
  },
  {
   "cell_type": "code",
   "execution_count": 5,
   "metadata": {},
   "outputs": [],
   "source": [
    "df['Useful'] = df['Useful'].astype(int)\n",
    "df['Funny'] = df['Funny'].astype(int)\n",
    "df['Cool'] = df['Cool'].astype(int)"
   ]
  },
  {
   "cell_type": "code",
   "execution_count": 6,
   "metadata": {},
   "outputs": [],
   "source": [
    "df[\"Date\"] = pd.to_datetime(df['Date'])"
   ]
  },
  {
   "cell_type": "code",
   "execution_count": 7,
   "metadata": {},
   "outputs": [
    {
     "data": {
      "text/plain": [
       "Review_ID      0\n",
       "User_ID        0\n",
       "Business_ID    0\n",
       "Stars          0\n",
       "Date           0\n",
       "Text           0\n",
       "Useful         0\n",
       "Funny          0\n",
       "Cool           0\n",
       "dtype: int64"
      ]
     },
     "execution_count": 7,
     "metadata": {},
     "output_type": "execute_result"
    }
   ],
   "source": [
    "df.isnull().sum() # no null data rows"
   ]
  },
  {
   "cell_type": "markdown",
   "metadata": {},
   "source": [
    "### DELETE ALL REVIEWS THAT AREN'T IN ENGLISH"
   ]
  },
  {
   "cell_type": "code",
   "execution_count": 8,
   "metadata": {},
   "outputs": [],
   "source": [
    "df = df[df['Text'].map(lambda x: x.isascii())]\n"
   ]
  },
  {
   "cell_type": "code",
   "execution_count": 9,
   "metadata": {},
   "outputs": [
    {
     "name": "stdout",
     "output_type": "stream",
     "text": [
      "<class 'pandas.core.frame.DataFrame'>\n",
      "Int64Index: 2203499 entries, 5 to 2271979\n",
      "Data columns (total 9 columns):\n",
      " #   Column       Dtype         \n",
      "---  ------       -----         \n",
      " 0   Review_ID    object        \n",
      " 1   User_ID      object        \n",
      " 2   Business_ID  object        \n",
      " 3   Stars        int64         \n",
      " 4   Date         datetime64[ns]\n",
      " 5   Text         object        \n",
      " 6   Useful       int64         \n",
      " 7   Funny        int64         \n",
      " 8   Cool         int64         \n",
      "dtypes: datetime64[ns](1), int64(4), object(4)\n",
      "memory usage: 168.1+ MB\n"
     ]
    }
   ],
   "source": [
    "df.info()"
   ]
  },
  {
   "cell_type": "code",
   "execution_count": 11,
   "metadata": {},
   "outputs": [
    {
     "data": {
      "text/html": [
       "<div>\n",
       "<style scoped>\n",
       "    .dataframe tbody tr th:only-of-type {\n",
       "        vertical-align: middle;\n",
       "    }\n",
       "\n",
       "    .dataframe tbody tr th {\n",
       "        vertical-align: top;\n",
       "    }\n",
       "\n",
       "    .dataframe thead th {\n",
       "        text-align: right;\n",
       "    }\n",
       "</style>\n",
       "<table border=\"1\" class=\"dataframe\">\n",
       "  <thead>\n",
       "    <tr style=\"text-align: right;\">\n",
       "      <th></th>\n",
       "      <th>Review_ID</th>\n",
       "      <th>User_ID</th>\n",
       "      <th>Business_ID</th>\n",
       "      <th>Stars</th>\n",
       "      <th>Date</th>\n",
       "      <th>Text</th>\n",
       "      <th>Useful</th>\n",
       "      <th>Funny</th>\n",
       "      <th>Cool</th>\n",
       "    </tr>\n",
       "  </thead>\n",
       "  <tbody>\n",
       "    <tr>\n",
       "      <th>5</th>\n",
       "      <td>-a9p8-UcbGDSIX4SJslHZg</td>\n",
       "      <td>dI-aeHknmPqiL42vdGKZQw</td>\n",
       "      <td>93E1eOQ2bQG0OyIMqdcTvg</td>\n",
       "      <td>4</td>\n",
       "      <td>2015-07-01</td>\n",
       "      <td>I don't know why I don't go to Whataburger mor...</td>\n",
       "      <td>0</td>\n",
       "      <td>0</td>\n",
       "      <td>0</td>\n",
       "    </tr>\n",
       "    <tr>\n",
       "      <th>6</th>\n",
       "      <td>bHEEQf5f_u-xvJPMvlFdWA</td>\n",
       "      <td>BpjlGlSW0VsphfzwTUffNg</td>\n",
       "      <td>BGkpUKqCNPGPHvhQ2J9mwQ</td>\n",
       "      <td>5</td>\n",
       "      <td>2017-03-15</td>\n",
       "      <td>Furnace died the day before temp was predicted...</td>\n",
       "      <td>1</td>\n",
       "      <td>0</td>\n",
       "      <td>0</td>\n",
       "    </tr>\n",
       "    <tr>\n",
       "      <th>7</th>\n",
       "      <td>v8SOCTSvss7lVzBrOG8OIw</td>\n",
       "      <td>hPtwgzndX3e7ttnov9ByeQ</td>\n",
       "      <td>WBlYp-nmLiBLp7VjP1FJFg</td>\n",
       "      <td>2</td>\n",
       "      <td>2017-06-14</td>\n",
       "      <td>What the fuck is this?! The steak is rubber! T...</td>\n",
       "      <td>1</td>\n",
       "      <td>2</td>\n",
       "      <td>0</td>\n",
       "    </tr>\n",
       "    <tr>\n",
       "      <th>8</th>\n",
       "      <td>j22GioMCag6-F5quZvgipw</td>\n",
       "      <td>IFkSQLXXTMACoWirAYI1jw</td>\n",
       "      <td>1XWpUatzGk0Cgn6C6VDaWg</td>\n",
       "      <td>5</td>\n",
       "      <td>2014-02-03</td>\n",
       "      <td>Seattle may have just won the 2014 Super Bowl,...</td>\n",
       "      <td>2</td>\n",
       "      <td>2</td>\n",
       "      <td>1</td>\n",
       "    </tr>\n",
       "    <tr>\n",
       "      <th>9</th>\n",
       "      <td>yZiGS_vPM-EOXxxNATd6YQ</td>\n",
       "      <td>IFkSQLXXTMACoWirAYI1jw</td>\n",
       "      <td>iR1CIWFZOlfndjXn9fHflQ</td>\n",
       "      <td>5</td>\n",
       "      <td>2013-08-17</td>\n",
       "      <td>This was one of my favorite pubs in Edinburgh,...</td>\n",
       "      <td>0</td>\n",
       "      <td>0</td>\n",
       "      <td>0</td>\n",
       "    </tr>\n",
       "  </tbody>\n",
       "</table>\n",
       "</div>"
      ],
      "text/plain": [
       "                Review_ID                 User_ID             Business_ID  \\\n",
       "5  -a9p8-UcbGDSIX4SJslHZg  dI-aeHknmPqiL42vdGKZQw  93E1eOQ2bQG0OyIMqdcTvg   \n",
       "6  bHEEQf5f_u-xvJPMvlFdWA  BpjlGlSW0VsphfzwTUffNg  BGkpUKqCNPGPHvhQ2J9mwQ   \n",
       "7  v8SOCTSvss7lVzBrOG8OIw  hPtwgzndX3e7ttnov9ByeQ  WBlYp-nmLiBLp7VjP1FJFg   \n",
       "8  j22GioMCag6-F5quZvgipw  IFkSQLXXTMACoWirAYI1jw  1XWpUatzGk0Cgn6C6VDaWg   \n",
       "9  yZiGS_vPM-EOXxxNATd6YQ  IFkSQLXXTMACoWirAYI1jw  iR1CIWFZOlfndjXn9fHflQ   \n",
       "\n",
       "   Stars       Date                                               Text  \\\n",
       "5      4 2015-07-01  I don't know why I don't go to Whataburger mor...   \n",
       "6      5 2017-03-15  Furnace died the day before temp was predicted...   \n",
       "7      2 2017-06-14  What the fuck is this?! The steak is rubber! T...   \n",
       "8      5 2014-02-03  Seattle may have just won the 2014 Super Bowl,...   \n",
       "9      5 2013-08-17  This was one of my favorite pubs in Edinburgh,...   \n",
       "\n",
       "   Useful  Funny  Cool  \n",
       "5       0      0     0  \n",
       "6       1      0     0  \n",
       "7       1      2     0  \n",
       "8       2      2     1  \n",
       "9       0      0     0  "
      ]
     },
     "execution_count": 11,
     "metadata": {},
     "output_type": "execute_result"
    }
   ],
   "source": [
    "df.head()"
   ]
  },
  {
   "cell_type": "code",
   "execution_count": null,
   "metadata": {},
   "outputs": [],
   "source": []
  }
 ],
 "metadata": {
  "kernelspec": {
   "display_name": "Python 3",
   "language": "python",
   "name": "python3"
  },
  "language_info": {
   "codemirror_mode": {
    "name": "ipython",
    "version": 3
   },
   "file_extension": ".py",
   "mimetype": "text/x-python",
   "name": "python",
   "nbconvert_exporter": "python",
   "pygments_lexer": "ipython3",
   "version": "3.7.6"
  }
 },
 "nbformat": 4,
 "nbformat_minor": 4
}
