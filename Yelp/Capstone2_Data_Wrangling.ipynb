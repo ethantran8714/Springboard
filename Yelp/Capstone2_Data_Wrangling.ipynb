{
 "cells": [
  {
   "cell_type": "markdown",
   "metadata": {},
   "source": [
    "### DATA WRANGLING CAPSTONE PROJECT 2"
   ]
  },
  {
   "cell_type": "code",
   "execution_count": 1,
   "metadata": {},
   "outputs": [
    {
     "data": {
      "text/html": [
       "<div>\n",
       "<style scoped>\n",
       "    .dataframe tbody tr th:only-of-type {\n",
       "        vertical-align: middle;\n",
       "    }\n",
       "\n",
       "    .dataframe tbody tr th {\n",
       "        vertical-align: top;\n",
       "    }\n",
       "\n",
       "    .dataframe thead th {\n",
       "        text-align: right;\n",
       "    }\n",
       "</style>\n",
       "<table border=\"1\" class=\"dataframe\">\n",
       "  <thead>\n",
       "    <tr style=\"text-align: right;\">\n",
       "      <th></th>\n",
       "      <th>Review_ID</th>\n",
       "      <th>User_ID</th>\n",
       "      <th>Business_ID</th>\n",
       "      <th>Stars</th>\n",
       "      <th>Date</th>\n",
       "      <th>Text</th>\n",
       "      <th>Useful</th>\n",
       "      <th>Funny</th>\n",
       "      <th>Cool</th>\n",
       "    </tr>\n",
       "  </thead>\n",
       "  <tbody>\n",
       "    <tr>\n",
       "      <th>1</th>\n",
       "      <td>hclX_u347zyM7zvqnKcvzw</td>\n",
       "      <td>IIfUkahy3IO7sN5KKMvtyA</td>\n",
       "      <td>PPJiCdWwr3z23tMxgX8ayQ</td>\n",
       "      <td>5</td>\n",
       "      <td>2015-02-12</td>\n",
       "      <td>Je reviens du Wellington et wouah ! La nourrit...</td>\n",
       "      <td>1.0</td>\n",
       "      <td>0.0</td>\n",
       "      <td>0.0</td>\n",
       "    </tr>\n",
       "    <tr>\n",
       "      <th>2</th>\n",
       "      <td>ynTtE8k2-RZcQvK05g-hsw</td>\n",
       "      <td>IIfUkahy3IO7sN5KKMvtyA</td>\n",
       "      <td>QJB0dqY_muOS8xCQd1SyvQ</td>\n",
       "      <td>5</td>\n",
       "      <td>2015-02-01</td>\n",
       "      <td>Véritable coup de coeur pour cette endroit ! J...</td>\n",
       "      <td>0.0</td>\n",
       "      <td>0.0</td>\n",
       "      <td>0.0</td>\n",
       "    </tr>\n",
       "    <tr>\n",
       "      <th>3</th>\n",
       "      <td>9G3aF2rilfiyRLz7S1-UGg</td>\n",
       "      <td>IIfUkahy3IO7sN5KKMvtyA</td>\n",
       "      <td>ywfhUYgNQqVf06sYQiIKMQ</td>\n",
       "      <td>4</td>\n",
       "      <td>2015-02-01</td>\n",
       "      <td>Très bonne place populaire pour un brunch trad...</td>\n",
       "      <td>2.0</td>\n",
       "      <td>0.0</td>\n",
       "      <td>0.0</td>\n",
       "    </tr>\n",
       "    <tr>\n",
       "      <th>4</th>\n",
       "      <td>9cvjOrirvFmjEO6WZIKV4w</td>\n",
       "      <td>IIfUkahy3IO7sN5KKMvtyA</td>\n",
       "      <td>O3sIXkB4rHX9OLKILiyZLw</td>\n",
       "      <td>4</td>\n",
       "      <td>2015-02-21</td>\n",
       "      <td>Très bonne brasserie dans un décor unique. Ess...</td>\n",
       "      <td>0.0</td>\n",
       "      <td>0.0</td>\n",
       "      <td>0.0</td>\n",
       "    </tr>\n",
       "    <tr>\n",
       "      <th>5</th>\n",
       "      <td>-a9p8-UcbGDSIX4SJslHZg</td>\n",
       "      <td>dI-aeHknmPqiL42vdGKZQw</td>\n",
       "      <td>93E1eOQ2bQG0OyIMqdcTvg</td>\n",
       "      <td>4</td>\n",
       "      <td>2015-07-01</td>\n",
       "      <td>I don't know why I don't go to Whataburger mor...</td>\n",
       "      <td>0.0</td>\n",
       "      <td>0.0</td>\n",
       "      <td>0.0</td>\n",
       "    </tr>\n",
       "  </tbody>\n",
       "</table>\n",
       "</div>"
      ],
      "text/plain": [
       "                Review_ID                 User_ID             Business_ID  \\\n",
       "1  hclX_u347zyM7zvqnKcvzw  IIfUkahy3IO7sN5KKMvtyA  PPJiCdWwr3z23tMxgX8ayQ   \n",
       "2  ynTtE8k2-RZcQvK05g-hsw  IIfUkahy3IO7sN5KKMvtyA  QJB0dqY_muOS8xCQd1SyvQ   \n",
       "3  9G3aF2rilfiyRLz7S1-UGg  IIfUkahy3IO7sN5KKMvtyA  ywfhUYgNQqVf06sYQiIKMQ   \n",
       "4  9cvjOrirvFmjEO6WZIKV4w  IIfUkahy3IO7sN5KKMvtyA  O3sIXkB4rHX9OLKILiyZLw   \n",
       "5  -a9p8-UcbGDSIX4SJslHZg  dI-aeHknmPqiL42vdGKZQw  93E1eOQ2bQG0OyIMqdcTvg   \n",
       "\n",
       "   Stars        Date                                               Text  \\\n",
       "1      5  2015-02-12  Je reviens du Wellington et wouah ! La nourrit...   \n",
       "2      5  2015-02-01  Véritable coup de coeur pour cette endroit ! J...   \n",
       "3      4  2015-02-01  Très bonne place populaire pour un brunch trad...   \n",
       "4      4  2015-02-21  Très bonne brasserie dans un décor unique. Ess...   \n",
       "5      4  2015-07-01  I don't know why I don't go to Whataburger mor...   \n",
       "\n",
       "   Useful  Funny  Cool  \n",
       "1     1.0    0.0   0.0  \n",
       "2     0.0    0.0   0.0  \n",
       "3     2.0    0.0   0.0  \n",
       "4     0.0    0.0   0.0  \n",
       "5     0.0    0.0   0.0  "
      ]
     },
     "execution_count": 1,
     "metadata": {},
     "output_type": "execute_result"
    }
   ],
   "source": [
    "import os\n",
    "import pandas as pd\n",
    "\n",
    "colnames = [\"Review_ID\", \"User_ID\", \"Business_ID\", \"Stars\", \"Date\", \"Text\", \"Useful\", \"Funny\", \"Cool\"]\n",
    "df= pd.read_csv('yelp_review.csv', names=colnames, header=None)\n",
    "df = df[1:]\n",
    "df.head()"
   ]
  },
  {
   "cell_type": "markdown",
   "metadata": {},
   "source": [
    "### ANALYZE DATASET"
   ]
  },
  {
   "cell_type": "code",
   "execution_count": 2,
   "metadata": {},
   "outputs": [
    {
     "data": {
      "text/plain": [
       "Index(['Review_ID', 'User_ID', 'Business_ID', 'Stars', 'Date', 'Text',\n",
       "       'Useful', 'Funny', 'Cool'],\n",
       "      dtype='object')"
      ]
     },
     "execution_count": 2,
     "metadata": {},
     "output_type": "execute_result"
    }
   ],
   "source": [
    "df.columns"
   ]
  },
  {
   "cell_type": "code",
   "execution_count": 3,
   "metadata": {},
   "outputs": [
    {
     "name": "stdout",
     "output_type": "stream",
     "text": [
      "<class 'pandas.core.frame.DataFrame'>\n",
      "RangeIndex: 2271979 entries, 1 to 2271979\n",
      "Data columns (total 9 columns):\n",
      " #   Column       Dtype  \n",
      "---  ------       -----  \n",
      " 0   Review_ID    object \n",
      " 1   User_ID      object \n",
      " 2   Business_ID  object \n",
      " 3   Stars        int64  \n",
      " 4   Date         object \n",
      " 5   Text         object \n",
      " 6   Useful       float64\n",
      " 7   Funny        float64\n",
      " 8   Cool         float64\n",
      "dtypes: float64(3), int64(1), object(5)\n",
      "memory usage: 156.0+ MB\n"
     ]
    }
   ],
   "source": [
    "df.info()"
   ]
  },
  {
   "cell_type": "code",
   "execution_count": 4,
   "metadata": {},
   "outputs": [
    {
     "data": {
      "text/plain": [
       "Review_ID      0\n",
       "User_ID        0\n",
       "Business_ID    0\n",
       "Stars          0\n",
       "Date           0\n",
       "Text           0\n",
       "Useful         0\n",
       "Funny          0\n",
       "Cool           0\n",
       "dtype: int64"
      ]
     },
     "execution_count": 4,
     "metadata": {},
     "output_type": "execute_result"
    }
   ],
   "source": [
    "df.isnull().sum()"
   ]
  },
  {
   "cell_type": "markdown",
   "metadata": {},
   "source": [
    "### Convert Data Types"
   ]
  },
  {
   "cell_type": "code",
   "execution_count": 5,
   "metadata": {},
   "outputs": [],
   "source": [
    "df['Useful'] = df['Useful'].astype(int)\n",
    "df['Funny'] = df['Funny'].astype(int)\n",
    "df['Cool'] = df['Cool'].astype(int)"
   ]
  },
  {
   "cell_type": "code",
   "execution_count": 6,
   "metadata": {},
   "outputs": [],
   "source": [
    "df[\"Date\"] = pd.to_datetime(df['Date'])"
   ]
  },
  {
   "cell_type": "code",
   "execution_count": 7,
   "metadata": {},
   "outputs": [
    {
     "data": {
      "text/plain": [
       "Review_ID      0\n",
       "User_ID        0\n",
       "Business_ID    0\n",
       "Stars          0\n",
       "Date           0\n",
       "Text           0\n",
       "Useful         0\n",
       "Funny          0\n",
       "Cool           0\n",
       "dtype: int64"
      ]
     },
     "execution_count": 7,
     "metadata": {},
     "output_type": "execute_result"
    }
   ],
   "source": [
    "df.isnull().sum() # no null data rows"
   ]
  },
  {
   "cell_type": "markdown",
   "metadata": {},
   "source": [
    "### DELETE ALL REVIEWS THAT AREN'T IN ENGLISH"
   ]
  },
  {
   "cell_type": "code",
   "execution_count": 8,
   "metadata": {},
   "outputs": [],
   "source": [
    "df = df[df['Text'].map(lambda x: x.isascii())]\n"
   ]
  },
  {
   "cell_type": "code",
   "execution_count": 9,
   "metadata": {},
   "outputs": [
    {
     "name": "stdout",
     "output_type": "stream",
     "text": [
      "<class 'pandas.core.frame.DataFrame'>\n",
      "Int64Index: 2203499 entries, 5 to 2271979\n",
      "Data columns (total 9 columns):\n",
      " #   Column       Dtype         \n",
      "---  ------       -----         \n",
      " 0   Review_ID    object        \n",
      " 1   User_ID      object        \n",
      " 2   Business_ID  object        \n",
      " 3   Stars        int64         \n",
      " 4   Date         datetime64[ns]\n",
      " 5   Text         object        \n",
      " 6   Useful       int64         \n",
      " 7   Funny        int64         \n",
      " 8   Cool         int64         \n",
      "dtypes: datetime64[ns](1), int64(4), object(4)\n",
      "memory usage: 168.1+ MB\n"
     ]
    }
   ],
   "source": [
    "df.info()"
   ]
  },
  {
   "cell_type": "code",
   "execution_count": 10,
   "metadata": {},
   "outputs": [
    {
     "data": {
      "text/html": [
       "<div>\n",
       "<style scoped>\n",
       "    .dataframe tbody tr th:only-of-type {\n",
       "        vertical-align: middle;\n",
       "    }\n",
       "\n",
       "    .dataframe tbody tr th {\n",
       "        vertical-align: top;\n",
       "    }\n",
       "\n",
       "    .dataframe thead th {\n",
       "        text-align: right;\n",
       "    }\n",
       "</style>\n",
       "<table border=\"1\" class=\"dataframe\">\n",
       "  <thead>\n",
       "    <tr style=\"text-align: right;\">\n",
       "      <th></th>\n",
       "      <th>Review_ID</th>\n",
       "      <th>User_ID</th>\n",
       "      <th>Business_ID</th>\n",
       "      <th>Stars</th>\n",
       "      <th>Date</th>\n",
       "      <th>Text</th>\n",
       "      <th>Useful</th>\n",
       "      <th>Funny</th>\n",
       "      <th>Cool</th>\n",
       "    </tr>\n",
       "  </thead>\n",
       "  <tbody>\n",
       "    <tr>\n",
       "      <th>5</th>\n",
       "      <td>-a9p8-UcbGDSIX4SJslHZg</td>\n",
       "      <td>dI-aeHknmPqiL42vdGKZQw</td>\n",
       "      <td>93E1eOQ2bQG0OyIMqdcTvg</td>\n",
       "      <td>4</td>\n",
       "      <td>2015-07-01</td>\n",
       "      <td>I don't know why I don't go to Whataburger mor...</td>\n",
       "      <td>0</td>\n",
       "      <td>0</td>\n",
       "      <td>0</td>\n",
       "    </tr>\n",
       "    <tr>\n",
       "      <th>6</th>\n",
       "      <td>bHEEQf5f_u-xvJPMvlFdWA</td>\n",
       "      <td>BpjlGlSW0VsphfzwTUffNg</td>\n",
       "      <td>BGkpUKqCNPGPHvhQ2J9mwQ</td>\n",
       "      <td>5</td>\n",
       "      <td>2017-03-15</td>\n",
       "      <td>Furnace died the day before temp was predicted...</td>\n",
       "      <td>1</td>\n",
       "      <td>0</td>\n",
       "      <td>0</td>\n",
       "    </tr>\n",
       "    <tr>\n",
       "      <th>7</th>\n",
       "      <td>v8SOCTSvss7lVzBrOG8OIw</td>\n",
       "      <td>hPtwgzndX3e7ttnov9ByeQ</td>\n",
       "      <td>WBlYp-nmLiBLp7VjP1FJFg</td>\n",
       "      <td>2</td>\n",
       "      <td>2017-06-14</td>\n",
       "      <td>What the fuck is this?! The steak is rubber! T...</td>\n",
       "      <td>1</td>\n",
       "      <td>2</td>\n",
       "      <td>0</td>\n",
       "    </tr>\n",
       "    <tr>\n",
       "      <th>8</th>\n",
       "      <td>j22GioMCag6-F5quZvgipw</td>\n",
       "      <td>IFkSQLXXTMACoWirAYI1jw</td>\n",
       "      <td>1XWpUatzGk0Cgn6C6VDaWg</td>\n",
       "      <td>5</td>\n",
       "      <td>2014-02-03</td>\n",
       "      <td>Seattle may have just won the 2014 Super Bowl,...</td>\n",
       "      <td>2</td>\n",
       "      <td>2</td>\n",
       "      <td>1</td>\n",
       "    </tr>\n",
       "    <tr>\n",
       "      <th>9</th>\n",
       "      <td>yZiGS_vPM-EOXxxNATd6YQ</td>\n",
       "      <td>IFkSQLXXTMACoWirAYI1jw</td>\n",
       "      <td>iR1CIWFZOlfndjXn9fHflQ</td>\n",
       "      <td>5</td>\n",
       "      <td>2013-08-17</td>\n",
       "      <td>This was one of my favorite pubs in Edinburgh,...</td>\n",
       "      <td>0</td>\n",
       "      <td>0</td>\n",
       "      <td>0</td>\n",
       "    </tr>\n",
       "  </tbody>\n",
       "</table>\n",
       "</div>"
      ],
      "text/plain": [
       "                Review_ID                 User_ID             Business_ID  \\\n",
       "5  -a9p8-UcbGDSIX4SJslHZg  dI-aeHknmPqiL42vdGKZQw  93E1eOQ2bQG0OyIMqdcTvg   \n",
       "6  bHEEQf5f_u-xvJPMvlFdWA  BpjlGlSW0VsphfzwTUffNg  BGkpUKqCNPGPHvhQ2J9mwQ   \n",
       "7  v8SOCTSvss7lVzBrOG8OIw  hPtwgzndX3e7ttnov9ByeQ  WBlYp-nmLiBLp7VjP1FJFg   \n",
       "8  j22GioMCag6-F5quZvgipw  IFkSQLXXTMACoWirAYI1jw  1XWpUatzGk0Cgn6C6VDaWg   \n",
       "9  yZiGS_vPM-EOXxxNATd6YQ  IFkSQLXXTMACoWirAYI1jw  iR1CIWFZOlfndjXn9fHflQ   \n",
       "\n",
       "   Stars       Date                                               Text  \\\n",
       "5      4 2015-07-01  I don't know why I don't go to Whataburger mor...   \n",
       "6      5 2017-03-15  Furnace died the day before temp was predicted...   \n",
       "7      2 2017-06-14  What the fuck is this?! The steak is rubber! T...   \n",
       "8      5 2014-02-03  Seattle may have just won the 2014 Super Bowl,...   \n",
       "9      5 2013-08-17  This was one of my favorite pubs in Edinburgh,...   \n",
       "\n",
       "   Useful  Funny  Cool  \n",
       "5       0      0     0  \n",
       "6       1      0     0  \n",
       "7       1      2     0  \n",
       "8       2      2     1  \n",
       "9       0      0     0  "
      ]
     },
     "execution_count": 10,
     "metadata": {},
     "output_type": "execute_result"
    }
   ],
   "source": [
    "df.head()"
   ]
  },
  {
   "cell_type": "markdown",
   "metadata": {},
   "source": [
    "### GET RID OF OUTLIERS"
   ]
  },
  {
   "cell_type": "code",
   "execution_count": 11,
   "metadata": {},
   "outputs": [
    {
     "data": {
      "text/plain": [
       "array([   0,    1,    4,    3,    2,    5,    9,    8,    6,   15,   40,\n",
       "         13,   11,   37,   32,   23,   35,   26,   12,   21,   10,   14,\n",
       "         33,   45,   17,   36,    7,   16,   20,   18,   22,   19,   61,\n",
       "         31,   25,   34,   24,   56,   39,   49,   30,   27,   29,   38,\n",
       "         75,   51,   47,   44,   28,   88,   48,   41,   43,   42,   46,\n",
       "        103,   69,   53,  120,   50,   52,   59,   58,   72,   70,   57,\n",
       "         54,   63,   66,   67,   55,   64,   65,   73,   77,   76,  181,\n",
       "        153,  147,  158,  146,  140,   60,   87,   78,  109,   74,   93,\n",
       "        111,  124,  123,  159,   62,   84,   83,  132,   71,  107,   89,\n",
       "        170,  157,  167,   80,   96,  173,  101,  172,  125,   -1,  100,\n",
       "        129,  145,   85,   90,   91,   79,   82, 1105])"
      ]
     },
     "execution_count": 11,
     "metadata": {},
     "output_type": "execute_result"
    }
   ],
   "source": [
    "df.Cool.unique()"
   ]
  },
  {
   "cell_type": "code",
   "execution_count": 12,
   "metadata": {},
   "outputs": [],
   "source": [
    "outlier_cool_IQR = df.Cool.quantile(0.75) - df.Cool.quantile(0.25)\n",
    "outlier_cool_outlier_value = df.Cool.quantile(0.75) + (outlier_cool_IQR * 1.5) # anything greater than IQR x 1.5 is an outlier"
   ]
  },
  {
   "cell_type": "code",
   "execution_count": 14,
   "metadata": {},
   "outputs": [],
   "source": [
    "df = df[(df[\"Cool\"] <= outlier_cool_outlier_value) & (df[\"Cool\"] > 0)]"
   ]
  },
  {
   "cell_type": "code",
   "execution_count": 15,
   "metadata": {},
   "outputs": [
    {
     "data": {
      "text/plain": [
       "array([1, 2])"
      ]
     },
     "execution_count": 15,
     "metadata": {},
     "output_type": "execute_result"
    }
   ],
   "source": [
    "df.Cool.unique()"
   ]
  },
  {
   "cell_type": "code",
   "execution_count": 16,
   "metadata": {},
   "outputs": [
    {
     "data": {
      "text/plain": [
       "array([  2,   1,   6,   4,   5,   0,   3,  11,  15,  20,  13,   7,  16,\n",
       "        19,   8,   9,  10,  12,  14,  28,  63,  17,  45,  24,  22,  18,\n",
       "        36,  41,  31,  30,  26,  49,  60,  21,  43,  32,  27,  23,  25,\n",
       "        38,  33,  42,  29,  40,  34,  48,  35,  55,  39,  37,  62,  67,\n",
       "        61,  53,  54, 187,  46,  44,  57,  47, 279,  59, 114,  72,  74,\n",
       "        64,  52, 133,  89, 169,  51,  65, 319,  78, 100,  69,  88,  66,\n",
       "        56, 103,  50,  68, 137,  84,  77, 107, 152, 111])"
      ]
     },
     "execution_count": 16,
     "metadata": {},
     "output_type": "execute_result"
    }
   ],
   "source": [
    "df.Useful.unique()"
   ]
  },
  {
   "cell_type": "code",
   "execution_count": 17,
   "metadata": {},
   "outputs": [],
   "source": [
    "outlier_useful_IQR = df.Useful.quantile(0.75) - df.Useful.quantile(0.25)\n",
    "outlier_useful_outlier_value = df.Useful.quantile(0.75) + (outlier_useful_IQR * 1.5) # anything greater than IQR x 1.5 is an outlier"
   ]
  },
  {
   "cell_type": "code",
   "execution_count": 18,
   "metadata": {},
   "outputs": [],
   "source": [
    "df = df[(df[\"Useful\"] < outlier_useful_outlier_value) & (df[\"Useful\"] > 0)]"
   ]
  },
  {
   "cell_type": "code",
   "execution_count": 19,
   "metadata": {},
   "outputs": [
    {
     "data": {
      "text/plain": [
       "array([2, 1, 4, 5, 3])"
      ]
     },
     "execution_count": 19,
     "metadata": {},
     "output_type": "execute_result"
    }
   ],
   "source": [
    "df.Useful.unique()"
   ]
  },
  {
   "cell_type": "code",
   "execution_count": 20,
   "metadata": {},
   "outputs": [
    {
     "data": {
      "text/plain": [
       "array([  2,   1,   0,   3,   5,   8,   7,  10,   4,   6,  18,  12,   9,\n",
       "        11,  13,  15,  32,  20,  95,  24,  65, 119,  14,  16,  21,  22,\n",
       "        26, 111,  17,  19,  25,  51,  97,  46,  38, 109,  55,  71,  29,\n",
       "        39,  82,  28,  43,  36,  23,  27,  37])"
      ]
     },
     "execution_count": 20,
     "metadata": {},
     "output_type": "execute_result"
    }
   ],
   "source": [
    "df.Funny.unique()"
   ]
  },
  {
   "cell_type": "code",
   "execution_count": 21,
   "metadata": {},
   "outputs": [],
   "source": [
    "outlier_funny_IQR = df.Funny.quantile(0.75) - df.Funny.quantile(0.25)\n",
    "outlier_funny_outlier_value = df.Funny.quantile(0.75) + (outlier_funny_IQR * 1.5) # anything greater than IQR x 1.5 is an outlier"
   ]
  },
  {
   "cell_type": "code",
   "execution_count": 22,
   "metadata": {},
   "outputs": [],
   "source": [
    "df = df[(df[\"Cool\"] <= outlier_funny_outlier_value) & (df[\"Cool\"] > 0)]"
   ]
  },
  {
   "cell_type": "code",
   "execution_count": 23,
   "metadata": {},
   "outputs": [
    {
     "data": {
      "text/plain": [
       "array([  2,   1,   0,   3,   5,   8,   7,  10,   4,   6,  18,  12,   9,\n",
       "        11,  13,  15,  32,  20,  95,  24,  65, 119,  14,  16,  21,  22,\n",
       "        26, 111,  17,  19,  25,  51,  97,  46,  38, 109,  55,  71,  29,\n",
       "        39,  82,  28,  43,  36,  23,  27,  37])"
      ]
     },
     "execution_count": 23,
     "metadata": {},
     "output_type": "execute_result"
    }
   ],
   "source": [
    "df.Funny.unique()"
   ]
  },
  {
   "cell_type": "code",
   "execution_count": 24,
   "metadata": {},
   "outputs": [
    {
     "name": "stdout",
     "output_type": "stream",
     "text": [
      "<class 'pandas.core.frame.DataFrame'>\n",
      "Int64Index: 353224 entries, 8 to 2271977\n",
      "Data columns (total 9 columns):\n",
      " #   Column       Non-Null Count   Dtype         \n",
      "---  ------       --------------   -----         \n",
      " 0   Review_ID    353224 non-null  object        \n",
      " 1   User_ID      353224 non-null  object        \n",
      " 2   Business_ID  353224 non-null  object        \n",
      " 3   Stars        353224 non-null  int64         \n",
      " 4   Date         353224 non-null  datetime64[ns]\n",
      " 5   Text         353224 non-null  object        \n",
      " 6   Useful       353224 non-null  int64         \n",
      " 7   Funny        353224 non-null  int64         \n",
      " 8   Cool         353224 non-null  int64         \n",
      "dtypes: datetime64[ns](1), int64(4), object(4)\n",
      "memory usage: 26.9+ MB\n"
     ]
    }
   ],
   "source": [
    "df.info()"
   ]
  },
  {
   "cell_type": "code",
   "execution_count": 29,
   "metadata": {},
   "outputs": [
    {
     "data": {
      "text/html": [
       "<div>\n",
       "<style scoped>\n",
       "    .dataframe tbody tr th:only-of-type {\n",
       "        vertical-align: middle;\n",
       "    }\n",
       "\n",
       "    .dataframe tbody tr th {\n",
       "        vertical-align: top;\n",
       "    }\n",
       "\n",
       "    .dataframe thead th {\n",
       "        text-align: right;\n",
       "    }\n",
       "</style>\n",
       "<table border=\"1\" class=\"dataframe\">\n",
       "  <thead>\n",
       "    <tr style=\"text-align: right;\">\n",
       "      <th></th>\n",
       "      <th>Review_ID</th>\n",
       "      <th>User_ID</th>\n",
       "      <th>Business_ID</th>\n",
       "      <th>Stars</th>\n",
       "      <th>Date</th>\n",
       "      <th>Text</th>\n",
       "      <th>Useful</th>\n",
       "      <th>Funny</th>\n",
       "      <th>Cool</th>\n",
       "    </tr>\n",
       "  </thead>\n",
       "  <tbody>\n",
       "    <tr>\n",
       "      <th>0</th>\n",
       "      <td>j22GioMCag6-F5quZvgipw</td>\n",
       "      <td>IFkSQLXXTMACoWirAYI1jw</td>\n",
       "      <td>1XWpUatzGk0Cgn6C6VDaWg</td>\n",
       "      <td>5</td>\n",
       "      <td>2014-02-03</td>\n",
       "      <td>Seattle may have just won the 2014 Super Bowl,...</td>\n",
       "      <td>2</td>\n",
       "      <td>2</td>\n",
       "      <td>1</td>\n",
       "    </tr>\n",
       "    <tr>\n",
       "      <th>1</th>\n",
       "      <td>LmyhJZQ9UrIfoKsx40MCTw</td>\n",
       "      <td>IFkSQLXXTMACoWirAYI1jw</td>\n",
       "      <td>FFolUMaFqs8vdu9ybE4-IA</td>\n",
       "      <td>3</td>\n",
       "      <td>2017-08-29</td>\n",
       "      <td>Ok, it's Airport food, so my expectations were...</td>\n",
       "      <td>1</td>\n",
       "      <td>1</td>\n",
       "      <td>1</td>\n",
       "    </tr>\n",
       "    <tr>\n",
       "      <th>2</th>\n",
       "      <td>G8VWnqTk1lz9w9mWaDLiFA</td>\n",
       "      <td>IFkSQLXXTMACoWirAYI1jw</td>\n",
       "      <td>V0tRCjf95FTqVJvmxdeqbQ</td>\n",
       "      <td>2</td>\n",
       "      <td>2014-01-20</td>\n",
       "      <td>Eh, Kind of a tourist trap. I mean, it is ente...</td>\n",
       "      <td>2</td>\n",
       "      <td>2</td>\n",
       "      <td>2</td>\n",
       "    </tr>\n",
       "    <tr>\n",
       "      <th>3</th>\n",
       "      <td>UzTjuAVhfxEWhLGr65DjXw</td>\n",
       "      <td>IFkSQLXXTMACoWirAYI1jw</td>\n",
       "      <td>BSdg9BTjnv8lCmSuYTJdZQ</td>\n",
       "      <td>3</td>\n",
       "      <td>2013-09-08</td>\n",
       "      <td>I've been to Deacon Brodie's several times (it...</td>\n",
       "      <td>2</td>\n",
       "      <td>1</td>\n",
       "      <td>1</td>\n",
       "    </tr>\n",
       "    <tr>\n",
       "      <th>4</th>\n",
       "      <td>jj9vH4mIuCOjpFqO7Te5ZA</td>\n",
       "      <td>IFkSQLXXTMACoWirAYI1jw</td>\n",
       "      <td>CcLih_2n9FZglQwGxY76CA</td>\n",
       "      <td>5</td>\n",
       "      <td>2013-08-17</td>\n",
       "      <td>Stopped in Conan Doyle a while back, and I was...</td>\n",
       "      <td>1</td>\n",
       "      <td>0</td>\n",
       "      <td>2</td>\n",
       "    </tr>\n",
       "    <tr>\n",
       "      <th>...</th>\n",
       "      <td>...</td>\n",
       "      <td>...</td>\n",
       "      <td>...</td>\n",
       "      <td>...</td>\n",
       "      <td>...</td>\n",
       "      <td>...</td>\n",
       "      <td>...</td>\n",
       "      <td>...</td>\n",
       "      <td>...</td>\n",
       "    </tr>\n",
       "    <tr>\n",
       "      <th>353219</th>\n",
       "      <td>3LeAcgfaEYtGL16j3hGgig</td>\n",
       "      <td>mPjPyipaD0C_myqWqDipZg</td>\n",
       "      <td>YEILyeHAQTgEGogF46HYiw</td>\n",
       "      <td>4</td>\n",
       "      <td>2011-10-21</td>\n",
       "      <td>Was on the way to work and feel like having so...</td>\n",
       "      <td>1</td>\n",
       "      <td>0</td>\n",
       "      <td>1</td>\n",
       "    </tr>\n",
       "    <tr>\n",
       "      <th>353220</th>\n",
       "      <td>CIMhrYaTrldYxWqYlYPN-A</td>\n",
       "      <td>mPjPyipaD0C_myqWqDipZg</td>\n",
       "      <td>6y-z_jGX7PCUubMPFDbxVA</td>\n",
       "      <td>4</td>\n",
       "      <td>2011-10-18</td>\n",
       "      <td>Went there on a tuesday nite in a group of 13 ...</td>\n",
       "      <td>1</td>\n",
       "      <td>2</td>\n",
       "      <td>2</td>\n",
       "    </tr>\n",
       "    <tr>\n",
       "      <th>353221</th>\n",
       "      <td>Q76zOoiQklh62ZTmA4gJZQ</td>\n",
       "      <td>mPjPyipaD0C_myqWqDipZg</td>\n",
       "      <td>fp24IseF5LGD1Iev7d0PVA</td>\n",
       "      <td>4</td>\n",
       "      <td>2011-10-20</td>\n",
       "      <td>I cannot believe this place have such few revi...</td>\n",
       "      <td>5</td>\n",
       "      <td>0</td>\n",
       "      <td>1</td>\n",
       "    </tr>\n",
       "    <tr>\n",
       "      <th>353222</th>\n",
       "      <td>ZU2UF0YBkhQFctXH5Mry3A</td>\n",
       "      <td>mPjPyipaD0C_myqWqDipZg</td>\n",
       "      <td>CMkayuNDHPcd1dxO32kJyA</td>\n",
       "      <td>1</td>\n",
       "      <td>2012-05-24</td>\n",
       "      <td>This place is retarded!!!  Called on a thursda...</td>\n",
       "      <td>4</td>\n",
       "      <td>4</td>\n",
       "      <td>1</td>\n",
       "    </tr>\n",
       "    <tr>\n",
       "      <th>353223</th>\n",
       "      <td>W9eVvOcpBvG6lpJPoJOxuA</td>\n",
       "      <td>mPjPyipaD0C_myqWqDipZg</td>\n",
       "      <td>5ubokMNw8qfbX2WtxgJG1Q</td>\n",
       "      <td>4</td>\n",
       "      <td>2011-10-23</td>\n",
       "      <td>Had a 8 dish set meal, was enough for 10 peopl...</td>\n",
       "      <td>3</td>\n",
       "      <td>0</td>\n",
       "      <td>1</td>\n",
       "    </tr>\n",
       "  </tbody>\n",
       "</table>\n",
       "<p>353224 rows × 9 columns</p>\n",
       "</div>"
      ],
      "text/plain": [
       "                     Review_ID                 User_ID  \\\n",
       "0       j22GioMCag6-F5quZvgipw  IFkSQLXXTMACoWirAYI1jw   \n",
       "1       LmyhJZQ9UrIfoKsx40MCTw  IFkSQLXXTMACoWirAYI1jw   \n",
       "2       G8VWnqTk1lz9w9mWaDLiFA  IFkSQLXXTMACoWirAYI1jw   \n",
       "3       UzTjuAVhfxEWhLGr65DjXw  IFkSQLXXTMACoWirAYI1jw   \n",
       "4       jj9vH4mIuCOjpFqO7Te5ZA  IFkSQLXXTMACoWirAYI1jw   \n",
       "...                        ...                     ...   \n",
       "353219  3LeAcgfaEYtGL16j3hGgig  mPjPyipaD0C_myqWqDipZg   \n",
       "353220  CIMhrYaTrldYxWqYlYPN-A  mPjPyipaD0C_myqWqDipZg   \n",
       "353221  Q76zOoiQklh62ZTmA4gJZQ  mPjPyipaD0C_myqWqDipZg   \n",
       "353222  ZU2UF0YBkhQFctXH5Mry3A  mPjPyipaD0C_myqWqDipZg   \n",
       "353223  W9eVvOcpBvG6lpJPoJOxuA  mPjPyipaD0C_myqWqDipZg   \n",
       "\n",
       "                   Business_ID  Stars       Date  \\\n",
       "0       1XWpUatzGk0Cgn6C6VDaWg      5 2014-02-03   \n",
       "1       FFolUMaFqs8vdu9ybE4-IA      3 2017-08-29   \n",
       "2       V0tRCjf95FTqVJvmxdeqbQ      2 2014-01-20   \n",
       "3       BSdg9BTjnv8lCmSuYTJdZQ      3 2013-09-08   \n",
       "4       CcLih_2n9FZglQwGxY76CA      5 2013-08-17   \n",
       "...                        ...    ...        ...   \n",
       "353219  YEILyeHAQTgEGogF46HYiw      4 2011-10-21   \n",
       "353220  6y-z_jGX7PCUubMPFDbxVA      4 2011-10-18   \n",
       "353221  fp24IseF5LGD1Iev7d0PVA      4 2011-10-20   \n",
       "353222  CMkayuNDHPcd1dxO32kJyA      1 2012-05-24   \n",
       "353223  5ubokMNw8qfbX2WtxgJG1Q      4 2011-10-23   \n",
       "\n",
       "                                                     Text  Useful  Funny  Cool  \n",
       "0       Seattle may have just won the 2014 Super Bowl,...       2      2     1  \n",
       "1       Ok, it's Airport food, so my expectations were...       1      1     1  \n",
       "2       Eh, Kind of a tourist trap. I mean, it is ente...       2      2     2  \n",
       "3       I've been to Deacon Brodie's several times (it...       2      1     1  \n",
       "4       Stopped in Conan Doyle a while back, and I was...       1      0     2  \n",
       "...                                                   ...     ...    ...   ...  \n",
       "353219  Was on the way to work and feel like having so...       1      0     1  \n",
       "353220  Went there on a tuesday nite in a group of 13 ...       1      2     2  \n",
       "353221  I cannot believe this place have such few revi...       5      0     1  \n",
       "353222  This place is retarded!!!  Called on a thursda...       4      4     1  \n",
       "353223  Had a 8 dish set meal, was enough for 10 peopl...       3      0     1  \n",
       "\n",
       "[353224 rows x 9 columns]"
      ]
     },
     "execution_count": 29,
     "metadata": {},
     "output_type": "execute_result"
    }
   ],
   "source": [
    "df.reset_index(drop=True)"
   ]
  },
  {
   "cell_type": "code",
   "execution_count": 30,
   "metadata": {},
   "outputs": [],
   "source": [
    "df.to_csv(\"yelp_review_revised.csv\")"
   ]
  },
  {
   "cell_type": "code",
   "execution_count": null,
   "metadata": {},
   "outputs": [],
   "source": []
  }
 ],
 "metadata": {
  "kernelspec": {
   "display_name": "Python 3",
   "language": "python",
   "name": "python3"
  },
  "language_info": {
   "codemirror_mode": {
    "name": "ipython",
    "version": 3
   },
   "file_extension": ".py",
   "mimetype": "text/x-python",
   "name": "python",
   "nbconvert_exporter": "python",
   "pygments_lexer": "ipython3",
   "version": "3.7.6"
  }
 },
 "nbformat": 4,
 "nbformat_minor": 4
}
